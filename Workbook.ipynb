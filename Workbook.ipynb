{
 "cells": [
  {
   "cell_type": "markdown",
   "metadata": {},
   "source": [
    "### \"Oh, Bother!\" - Winnie the Pooh\n",
    "\n",
    "Have you ever wondered just how many bees there are? I have, so the following project \n",
    "will aim to answer just that."
   ]
  },
  {
   "cell_type": "code",
   "execution_count": 1259,
   "metadata": {},
   "outputs": [],
   "source": [
    "import pandas as pd \n",
    "import matplotlib.pyplot as plt\n",
    "import numpy as np\n",
    "import plotly.express as px\n",
    "import plotly.graph_objs as go\n",
    "import circlify"
   ]
  },
  {
   "cell_type": "code",
   "execution_count": 1260,
   "metadata": {},
   "outputs": [],
   "source": [
    "bee_data = pd.read_csv('bee_census_data.csv')\n",
    "\n",
    "us_data = pd.read_csv('us_census_data.csv')"
   ]
  },
  {
   "cell_type": "code",
   "execution_count": 1261,
   "metadata": {},
   "outputs": [
    {
     "data": {
      "text/html": [
       "<div>\n",
       "<style scoped>\n",
       "    .dataframe tbody tr th:only-of-type {\n",
       "        vertical-align: middle;\n",
       "    }\n",
       "\n",
       "    .dataframe tbody tr th {\n",
       "        vertical-align: top;\n",
       "    }\n",
       "\n",
       "    .dataframe thead th {\n",
       "        text-align: right;\n",
       "    }\n",
       "</style>\n",
       "<table border=\"1\" class=\"dataframe\">\n",
       "  <thead>\n",
       "    <tr style=\"text-align: right;\">\n",
       "      <th></th>\n",
       "      <th>Year</th>\n",
       "      <th>Period</th>\n",
       "      <th>State</th>\n",
       "      <th>State ANSI</th>\n",
       "      <th>Ag District</th>\n",
       "      <th>Ag District Code</th>\n",
       "      <th>County</th>\n",
       "      <th>County ANSI</th>\n",
       "      <th>Value</th>\n",
       "      <th>CV (%)</th>\n",
       "    </tr>\n",
       "  </thead>\n",
       "  <tbody>\n",
       "    <tr>\n",
       "      <th>0</th>\n",
       "      <td>2012</td>\n",
       "      <td>END OF DEC</td>\n",
       "      <td>ALABAMA</td>\n",
       "      <td>1</td>\n",
       "      <td>BLACK BELT</td>\n",
       "      <td>40</td>\n",
       "      <td>AUTAUGA</td>\n",
       "      <td>1.0</td>\n",
       "      <td>119.0</td>\n",
       "      <td>27.7</td>\n",
       "    </tr>\n",
       "    <tr>\n",
       "      <th>1</th>\n",
       "      <td>2012</td>\n",
       "      <td>END OF DEC</td>\n",
       "      <td>ALABAMA</td>\n",
       "      <td>1</td>\n",
       "      <td>BLACK BELT</td>\n",
       "      <td>40</td>\n",
       "      <td>DALLAS</td>\n",
       "      <td>47.0</td>\n",
       "      <td>65.0</td>\n",
       "      <td>27.7</td>\n",
       "    </tr>\n",
       "    <tr>\n",
       "      <th>2</th>\n",
       "      <td>2012</td>\n",
       "      <td>END OF DEC</td>\n",
       "      <td>ALABAMA</td>\n",
       "      <td>1</td>\n",
       "      <td>BLACK BELT</td>\n",
       "      <td>40</td>\n",
       "      <td>ELMORE</td>\n",
       "      <td>51.0</td>\n",
       "      <td>190.0</td>\n",
       "      <td>27.7</td>\n",
       "    </tr>\n",
       "    <tr>\n",
       "      <th>3</th>\n",
       "      <td>2012</td>\n",
       "      <td>END OF DEC</td>\n",
       "      <td>ALABAMA</td>\n",
       "      <td>1</td>\n",
       "      <td>BLACK BELT</td>\n",
       "      <td>40</td>\n",
       "      <td>GREENE</td>\n",
       "      <td>63.0</td>\n",
       "      <td>14.0</td>\n",
       "      <td>27.7</td>\n",
       "    </tr>\n",
       "    <tr>\n",
       "      <th>4</th>\n",
       "      <td>2012</td>\n",
       "      <td>END OF DEC</td>\n",
       "      <td>ALABAMA</td>\n",
       "      <td>1</td>\n",
       "      <td>BLACK BELT</td>\n",
       "      <td>40</td>\n",
       "      <td>HALE</td>\n",
       "      <td>65.0</td>\n",
       "      <td>10.0</td>\n",
       "      <td>27.7</td>\n",
       "    </tr>\n",
       "  </tbody>\n",
       "</table>\n",
       "</div>"
      ],
      "text/plain": [
       "   Year      Period    State  State ANSI Ag District  Ag District Code  \\\n",
       "0  2012  END OF DEC  ALABAMA           1  BLACK BELT                40   \n",
       "1  2012  END OF DEC  ALABAMA           1  BLACK BELT                40   \n",
       "2  2012  END OF DEC  ALABAMA           1  BLACK BELT                40   \n",
       "3  2012  END OF DEC  ALABAMA           1  BLACK BELT                40   \n",
       "4  2012  END OF DEC  ALABAMA           1  BLACK BELT                40   \n",
       "\n",
       "    County  County ANSI  Value CV (%)  \n",
       "0  AUTAUGA          1.0  119.0   27.7  \n",
       "1   DALLAS         47.0   65.0   27.7  \n",
       "2   ELMORE         51.0  190.0   27.7  \n",
       "3   GREENE         63.0   14.0   27.7  \n",
       "4     HALE         65.0   10.0   27.7  "
      ]
     },
     "execution_count": 1261,
     "metadata": {},
     "output_type": "execute_result"
    }
   ],
   "source": [
    "bee_data['Value'] = pd.to_numeric(bee_data['Value'], errors='coerce')\n",
    "bee_data.head()\n"
   ]
  },
  {
   "cell_type": "code",
   "execution_count": 1262,
   "metadata": {},
   "outputs": [
    {
     "data": {
      "text/html": [
       "<div>\n",
       "<style scoped>\n",
       "    .dataframe tbody tr th:only-of-type {\n",
       "        vertical-align: middle;\n",
       "    }\n",
       "\n",
       "    .dataframe tbody tr th {\n",
       "        vertical-align: top;\n",
       "    }\n",
       "\n",
       "    .dataframe thead th {\n",
       "        text-align: right;\n",
       "    }\n",
       "</style>\n",
       "<table border=\"1\" class=\"dataframe\">\n",
       "  <thead>\n",
       "    <tr style=\"text-align: right;\">\n",
       "      <th></th>\n",
       "      <th>State</th>\n",
       "      <th>BEEPOP</th>\n",
       "    </tr>\n",
       "  </thead>\n",
       "  <tbody>\n",
       "    <tr>\n",
       "      <th>0</th>\n",
       "      <td>ALABAMA</td>\n",
       "      <td>9.142500e+06</td>\n",
       "    </tr>\n",
       "    <tr>\n",
       "      <th>1</th>\n",
       "      <td>ALASKA</td>\n",
       "      <td>1.092000e+07</td>\n",
       "    </tr>\n",
       "    <tr>\n",
       "      <th>2</th>\n",
       "      <td>ARIZONA</td>\n",
       "      <td>1.620000e+07</td>\n",
       "    </tr>\n",
       "    <tr>\n",
       "      <th>3</th>\n",
       "      <td>ARKANSAS</td>\n",
       "      <td>6.058500e+06</td>\n",
       "    </tr>\n",
       "    <tr>\n",
       "      <th>4</th>\n",
       "      <td>CALIFORNIA</td>\n",
       "      <td>1.639412e+07</td>\n",
       "    </tr>\n",
       "    <tr>\n",
       "      <th>5</th>\n",
       "      <td>COLORADO</td>\n",
       "      <td>9.944348e+06</td>\n",
       "    </tr>\n",
       "    <tr>\n",
       "      <th>6</th>\n",
       "      <td>CONNECTICUT</td>\n",
       "      <td>3.496286e+07</td>\n",
       "    </tr>\n",
       "    <tr>\n",
       "      <th>7</th>\n",
       "      <td>DELAWARE</td>\n",
       "      <td>1.634000e+07</td>\n",
       "    </tr>\n",
       "    <tr>\n",
       "      <th>8</th>\n",
       "      <td>FLORIDA</td>\n",
       "      <td>1.524000e+07</td>\n",
       "    </tr>\n",
       "    <tr>\n",
       "      <th>9</th>\n",
       "      <td>GEORGIA</td>\n",
       "      <td>4.926353e+06</td>\n",
       "    </tr>\n",
       "    <tr>\n",
       "      <th>10</th>\n",
       "      <td>HAWAII</td>\n",
       "      <td>3.618000e+07</td>\n",
       "    </tr>\n",
       "    <tr>\n",
       "      <th>11</th>\n",
       "      <td>IDAHO</td>\n",
       "      <td>6.324000e+06</td>\n",
       "    </tr>\n",
       "    <tr>\n",
       "      <th>12</th>\n",
       "      <td>ILLINOIS</td>\n",
       "      <td>6.122857e+06</td>\n",
       "    </tr>\n",
       "    <tr>\n",
       "      <th>13</th>\n",
       "      <td>INDIANA</td>\n",
       "      <td>6.397403e+06</td>\n",
       "    </tr>\n",
       "    <tr>\n",
       "      <th>14</th>\n",
       "      <td>IOWA</td>\n",
       "      <td>4.270345e+06</td>\n",
       "    </tr>\n",
       "    <tr>\n",
       "      <th>15</th>\n",
       "      <td>KANSAS</td>\n",
       "      <td>4.800000e+06</td>\n",
       "    </tr>\n",
       "    <tr>\n",
       "      <th>16</th>\n",
       "      <td>KENTUCKY</td>\n",
       "      <td>6.409636e+06</td>\n",
       "    </tr>\n",
       "    <tr>\n",
       "      <th>17</th>\n",
       "      <td>LOUISIANA</td>\n",
       "      <td>8.216471e+06</td>\n",
       "    </tr>\n",
       "    <tr>\n",
       "      <th>18</th>\n",
       "      <td>MAINE</td>\n",
       "      <td>8.858182e+06</td>\n",
       "    </tr>\n",
       "    <tr>\n",
       "      <th>19</th>\n",
       "      <td>MARYLAND</td>\n",
       "      <td>6.617647e+06</td>\n",
       "    </tr>\n",
       "    <tr>\n",
       "      <th>20</th>\n",
       "      <td>MASSACHUSETTS</td>\n",
       "      <td>1.677600e+07</td>\n",
       "    </tr>\n",
       "    <tr>\n",
       "      <th>21</th>\n",
       "      <td>MICHIGAN</td>\n",
       "      <td>1.324962e+07</td>\n",
       "    </tr>\n",
       "    <tr>\n",
       "      <th>22</th>\n",
       "      <td>MINNESOTA</td>\n",
       "      <td>7.283077e+06</td>\n",
       "    </tr>\n",
       "    <tr>\n",
       "      <th>23</th>\n",
       "      <td>MISSISSIPPI</td>\n",
       "      <td>5.875556e+06</td>\n",
       "    </tr>\n",
       "    <tr>\n",
       "      <th>24</th>\n",
       "      <td>MISSOURI</td>\n",
       "      <td>5.123505e+06</td>\n",
       "    </tr>\n",
       "    <tr>\n",
       "      <th>25</th>\n",
       "      <td>MONTANA</td>\n",
       "      <td>1.500000e+06</td>\n",
       "    </tr>\n",
       "    <tr>\n",
       "      <th>26</th>\n",
       "      <td>NEBRASKA</td>\n",
       "      <td>7.400000e+06</td>\n",
       "    </tr>\n",
       "    <tr>\n",
       "      <th>27</th>\n",
       "      <td>NEVADA</td>\n",
       "      <td>1.195000e+07</td>\n",
       "    </tr>\n",
       "    <tr>\n",
       "      <th>28</th>\n",
       "      <td>NEW HAMPSHIRE</td>\n",
       "      <td>9.160000e+06</td>\n",
       "    </tr>\n",
       "    <tr>\n",
       "      <th>29</th>\n",
       "      <td>NEW JERSEY</td>\n",
       "      <td>1.502769e+07</td>\n",
       "    </tr>\n",
       "    <tr>\n",
       "      <th>30</th>\n",
       "      <td>NEW MEXICO</td>\n",
       "      <td>8.594118e+06</td>\n",
       "    </tr>\n",
       "    <tr>\n",
       "      <th>31</th>\n",
       "      <td>NEW YORK</td>\n",
       "      <td>1.674667e+07</td>\n",
       "    </tr>\n",
       "    <tr>\n",
       "      <th>32</th>\n",
       "      <td>NORTH CAROLINA</td>\n",
       "      <td>1.217233e+07</td>\n",
       "    </tr>\n",
       "    <tr>\n",
       "      <th>33</th>\n",
       "      <td>NORTH DAKOTA</td>\n",
       "      <td>6.000000e+05</td>\n",
       "    </tr>\n",
       "    <tr>\n",
       "      <th>34</th>\n",
       "      <td>OHIO</td>\n",
       "      <td>1.116878e+07</td>\n",
       "    </tr>\n",
       "    <tr>\n",
       "      <th>35</th>\n",
       "      <td>OKLAHOMA</td>\n",
       "      <td>5.429434e+06</td>\n",
       "    </tr>\n",
       "    <tr>\n",
       "      <th>36</th>\n",
       "      <td>OREGON</td>\n",
       "      <td>1.200800e+07</td>\n",
       "    </tr>\n",
       "    <tr>\n",
       "      <th>37</th>\n",
       "      <td>PENNSYLVANIA</td>\n",
       "      <td>1.324821e+07</td>\n",
       "    </tr>\n",
       "    <tr>\n",
       "      <th>38</th>\n",
       "      <td>RHODE ISLAND</td>\n",
       "      <td>1.108500e+07</td>\n",
       "    </tr>\n",
       "    <tr>\n",
       "      <th>39</th>\n",
       "      <td>SOUTH CAROLINA</td>\n",
       "      <td>9.216316e+06</td>\n",
       "    </tr>\n",
       "    <tr>\n",
       "      <th>40</th>\n",
       "      <td>SOUTH DAKOTA</td>\n",
       "      <td>1.712000e+07</td>\n",
       "    </tr>\n",
       "    <tr>\n",
       "      <th>41</th>\n",
       "      <td>TENNESSEE</td>\n",
       "      <td>8.594318e+06</td>\n",
       "    </tr>\n",
       "    <tr>\n",
       "      <th>42</th>\n",
       "      <td>TEXAS</td>\n",
       "      <td>6.730714e+06</td>\n",
       "    </tr>\n",
       "    <tr>\n",
       "      <th>43</th>\n",
       "      <td>UTAH</td>\n",
       "      <td>1.056000e+07</td>\n",
       "    </tr>\n",
       "    <tr>\n",
       "      <th>44</th>\n",
       "      <td>VERMONT</td>\n",
       "      <td>1.158000e+07</td>\n",
       "    </tr>\n",
       "    <tr>\n",
       "      <th>45</th>\n",
       "      <td>VIRGINIA</td>\n",
       "      <td>9.559551e+06</td>\n",
       "    </tr>\n",
       "    <tr>\n",
       "      <th>46</th>\n",
       "      <td>WASHINGTON</td>\n",
       "      <td>1.365789e+07</td>\n",
       "    </tr>\n",
       "    <tr>\n",
       "      <th>47</th>\n",
       "      <td>WEST VIRGINIA</td>\n",
       "      <td>7.820400e+06</td>\n",
       "    </tr>\n",
       "    <tr>\n",
       "      <th>48</th>\n",
       "      <td>WISCONSIN</td>\n",
       "      <td>1.369529e+07</td>\n",
       "    </tr>\n",
       "    <tr>\n",
       "      <th>49</th>\n",
       "      <td>WYOMING</td>\n",
       "      <td>7.044000e+06</td>\n",
       "    </tr>\n",
       "  </tbody>\n",
       "</table>\n",
       "</div>"
      ],
      "text/plain": [
       "             State        BEEPOP\n",
       "0          ALABAMA  9.142500e+06\n",
       "1           ALASKA  1.092000e+07\n",
       "2          ARIZONA  1.620000e+07\n",
       "3         ARKANSAS  6.058500e+06\n",
       "4       CALIFORNIA  1.639412e+07\n",
       "5         COLORADO  9.944348e+06\n",
       "6      CONNECTICUT  3.496286e+07\n",
       "7         DELAWARE  1.634000e+07\n",
       "8          FLORIDA  1.524000e+07\n",
       "9          GEORGIA  4.926353e+06\n",
       "10          HAWAII  3.618000e+07\n",
       "11           IDAHO  6.324000e+06\n",
       "12        ILLINOIS  6.122857e+06\n",
       "13         INDIANA  6.397403e+06\n",
       "14            IOWA  4.270345e+06\n",
       "15          KANSAS  4.800000e+06\n",
       "16        KENTUCKY  6.409636e+06\n",
       "17       LOUISIANA  8.216471e+06\n",
       "18           MAINE  8.858182e+06\n",
       "19        MARYLAND  6.617647e+06\n",
       "20   MASSACHUSETTS  1.677600e+07\n",
       "21        MICHIGAN  1.324962e+07\n",
       "22       MINNESOTA  7.283077e+06\n",
       "23     MISSISSIPPI  5.875556e+06\n",
       "24        MISSOURI  5.123505e+06\n",
       "25         MONTANA  1.500000e+06\n",
       "26        NEBRASKA  7.400000e+06\n",
       "27          NEVADA  1.195000e+07\n",
       "28   NEW HAMPSHIRE  9.160000e+06\n",
       "29      NEW JERSEY  1.502769e+07\n",
       "30      NEW MEXICO  8.594118e+06\n",
       "31        NEW YORK  1.674667e+07\n",
       "32  NORTH CAROLINA  1.217233e+07\n",
       "33    NORTH DAKOTA  6.000000e+05\n",
       "34            OHIO  1.116878e+07\n",
       "35        OKLAHOMA  5.429434e+06\n",
       "36          OREGON  1.200800e+07\n",
       "37    PENNSYLVANIA  1.324821e+07\n",
       "38    RHODE ISLAND  1.108500e+07\n",
       "39  SOUTH CAROLINA  9.216316e+06\n",
       "40    SOUTH DAKOTA  1.712000e+07\n",
       "41       TENNESSEE  8.594318e+06\n",
       "42           TEXAS  6.730714e+06\n",
       "43            UTAH  1.056000e+07\n",
       "44         VERMONT  1.158000e+07\n",
       "45        VIRGINIA  9.559551e+06\n",
       "46      WASHINGTON  1.365789e+07\n",
       "47   WEST VIRGINIA  7.820400e+06\n",
       "48       WISCONSIN  1.369529e+07\n",
       "49         WYOMING  7.044000e+06"
      ]
     },
     "execution_count": 1262,
     "metadata": {},
     "output_type": "execute_result"
    }
   ],
   "source": [
    "year_select = bee_data[bee_data['Year'].between(2010,2012)]\n",
    "clean_bee_data = year_select.groupby('State')['Value'].mean().reset_index()\n",
    "clean_bee_data.rename(columns={'Value': 'BEEPOP'}, inplace=True)\n",
    "clean_bee_data['BEEPOP'] = clean_bee_data['BEEPOP'].astype(float) * 60000\n",
    "clean_bee_data"
   ]
  },
  {
   "cell_type": "code",
   "execution_count": 1263,
   "metadata": {},
   "outputs": [
    {
     "data": {
      "text/html": [
       "<div>\n",
       "<style scoped>\n",
       "    .dataframe tbody tr th:only-of-type {\n",
       "        vertical-align: middle;\n",
       "    }\n",
       "\n",
       "    .dataframe tbody tr th {\n",
       "        vertical-align: top;\n",
       "    }\n",
       "\n",
       "    .dataframe thead th {\n",
       "        text-align: right;\n",
       "    }\n",
       "</style>\n",
       "<table border=\"1\" class=\"dataframe\">\n",
       "  <thead>\n",
       "    <tr style=\"text-align: right;\">\n",
       "      <th></th>\n",
       "      <th>SUMLEV</th>\n",
       "      <th>REGION</th>\n",
       "      <th>DIVISION</th>\n",
       "      <th>STATE</th>\n",
       "      <th>NAME</th>\n",
       "      <th>CENSUS2010POP</th>\n",
       "      <th>ESTIMATESBASE2010</th>\n",
       "      <th>POPESTIMATE2010</th>\n",
       "      <th>POPESTIMATE2011</th>\n",
       "      <th>POPESTIMATE2012</th>\n",
       "      <th>...</th>\n",
       "      <th>RDOMESTICMIG2019</th>\n",
       "      <th>RNETMIG2011</th>\n",
       "      <th>RNETMIG2012</th>\n",
       "      <th>RNETMIG2013</th>\n",
       "      <th>RNETMIG2014</th>\n",
       "      <th>RNETMIG2015</th>\n",
       "      <th>RNETMIG2016</th>\n",
       "      <th>RNETMIG2017</th>\n",
       "      <th>RNETMIG2018</th>\n",
       "      <th>RNETMIG2019</th>\n",
       "    </tr>\n",
       "  </thead>\n",
       "  <tbody>\n",
       "    <tr>\n",
       "      <th>0</th>\n",
       "      <td>10</td>\n",
       "      <td>0</td>\n",
       "      <td>0</td>\n",
       "      <td>0</td>\n",
       "      <td>United States</td>\n",
       "      <td>308745538</td>\n",
       "      <td>308758105</td>\n",
       "      <td>309321666</td>\n",
       "      <td>311556874</td>\n",
       "      <td>313830990</td>\n",
       "      <td>...</td>\n",
       "      <td>0.000000</td>\n",
       "      <td>2.493773</td>\n",
       "      <td>2.682083</td>\n",
       "      <td>2.636187</td>\n",
       "      <td>2.921500</td>\n",
       "      <td>3.260435</td>\n",
       "      <td>3.252788</td>\n",
       "      <td>2.871957</td>\n",
       "      <td>2.153911</td>\n",
       "      <td>1.818059</td>\n",
       "    </tr>\n",
       "    <tr>\n",
       "      <th>1</th>\n",
       "      <td>20</td>\n",
       "      <td>1</td>\n",
       "      <td>0</td>\n",
       "      <td>0</td>\n",
       "      <td>Northeast Region</td>\n",
       "      <td>55317240</td>\n",
       "      <td>55318443</td>\n",
       "      <td>55380134</td>\n",
       "      <td>55604223</td>\n",
       "      <td>55775216</td>\n",
       "      <td>...</td>\n",
       "      <td>-5.254530</td>\n",
       "      <td>0.887909</td>\n",
       "      <td>-0.038355</td>\n",
       "      <td>-0.469783</td>\n",
       "      <td>-0.986097</td>\n",
       "      <td>-2.061965</td>\n",
       "      <td>-2.490484</td>\n",
       "      <td>-1.837048</td>\n",
       "      <td>-2.134447</td>\n",
       "      <td>-2.859713</td>\n",
       "    </tr>\n",
       "    <tr>\n",
       "      <th>2</th>\n",
       "      <td>20</td>\n",
       "      <td>2</td>\n",
       "      <td>0</td>\n",
       "      <td>0</td>\n",
       "      <td>Midwest Region</td>\n",
       "      <td>66927001</td>\n",
       "      <td>66929725</td>\n",
       "      <td>66974416</td>\n",
       "      <td>67157800</td>\n",
       "      <td>67336743</td>\n",
       "      <td>...</td>\n",
       "      <td>-2.365881</td>\n",
       "      <td>-0.963930</td>\n",
       "      <td>-0.973943</td>\n",
       "      <td>-0.006924</td>\n",
       "      <td>-0.762969</td>\n",
       "      <td>-1.388437</td>\n",
       "      <td>-1.241784</td>\n",
       "      <td>-0.557370</td>\n",
       "      <td>-0.922755</td>\n",
       "      <td>-1.111173</td>\n",
       "    </tr>\n",
       "    <tr>\n",
       "      <th>3</th>\n",
       "      <td>20</td>\n",
       "      <td>3</td>\n",
       "      <td>0</td>\n",
       "      <td>0</td>\n",
       "      <td>South Region</td>\n",
       "      <td>114555744</td>\n",
       "      <td>114563030</td>\n",
       "      <td>114866680</td>\n",
       "      <td>116006522</td>\n",
       "      <td>117241208</td>\n",
       "      <td>...</td>\n",
       "      <td>3.261349</td>\n",
       "      <td>5.130513</td>\n",
       "      <td>5.850458</td>\n",
       "      <td>5.292073</td>\n",
       "      <td>6.161501</td>\n",
       "      <td>7.277358</td>\n",
       "      <td>7.150074</td>\n",
       "      <td>6.198168</td>\n",
       "      <td>5.225519</td>\n",
       "      <td>5.203720</td>\n",
       "    </tr>\n",
       "    <tr>\n",
       "      <th>4</th>\n",
       "      <td>20</td>\n",
       "      <td>4</td>\n",
       "      <td>0</td>\n",
       "      <td>0</td>\n",
       "      <td>West Region</td>\n",
       "      <td>71945553</td>\n",
       "      <td>71946907</td>\n",
       "      <td>72100436</td>\n",
       "      <td>72788329</td>\n",
       "      <td>73477823</td>\n",
       "      <td>...</td>\n",
       "      <td>0.614245</td>\n",
       "      <td>2.723344</td>\n",
       "      <td>3.062896</td>\n",
       "      <td>3.162262</td>\n",
       "      <td>4.026429</td>\n",
       "      <td>4.987285</td>\n",
       "      <td>5.261078</td>\n",
       "      <td>4.021194</td>\n",
       "      <td>3.044951</td>\n",
       "      <td>2.312083</td>\n",
       "    </tr>\n",
       "  </tbody>\n",
       "</table>\n",
       "<p>5 rows × 151 columns</p>\n",
       "</div>"
      ],
      "text/plain": [
       "   SUMLEV REGION DIVISION  STATE              NAME  CENSUS2010POP  \\\n",
       "0      10      0        0      0     United States      308745538   \n",
       "1      20      1        0      0  Northeast Region       55317240   \n",
       "2      20      2        0      0    Midwest Region       66927001   \n",
       "3      20      3        0      0      South Region      114555744   \n",
       "4      20      4        0      0       West Region       71945553   \n",
       "\n",
       "   ESTIMATESBASE2010  POPESTIMATE2010  POPESTIMATE2011  POPESTIMATE2012  ...  \\\n",
       "0          308758105        309321666        311556874        313830990  ...   \n",
       "1           55318443         55380134         55604223         55775216  ...   \n",
       "2           66929725         66974416         67157800         67336743  ...   \n",
       "3          114563030        114866680        116006522        117241208  ...   \n",
       "4           71946907         72100436         72788329         73477823  ...   \n",
       "\n",
       "   RDOMESTICMIG2019  RNETMIG2011  RNETMIG2012  RNETMIG2013  RNETMIG2014  \\\n",
       "0          0.000000     2.493773     2.682083     2.636187     2.921500   \n",
       "1         -5.254530     0.887909    -0.038355    -0.469783    -0.986097   \n",
       "2         -2.365881    -0.963930    -0.973943    -0.006924    -0.762969   \n",
       "3          3.261349     5.130513     5.850458     5.292073     6.161501   \n",
       "4          0.614245     2.723344     3.062896     3.162262     4.026429   \n",
       "\n",
       "   RNETMIG2015  RNETMIG2016  RNETMIG2017  RNETMIG2018  RNETMIG2019  \n",
       "0     3.260435     3.252788     2.871957     2.153911     1.818059  \n",
       "1    -2.061965    -2.490484    -1.837048    -2.134447    -2.859713  \n",
       "2    -1.388437    -1.241784    -0.557370    -0.922755    -1.111173  \n",
       "3     7.277358     7.150074     6.198168     5.225519     5.203720  \n",
       "4     4.987285     5.261078     4.021194     3.044951     2.312083  \n",
       "\n",
       "[5 rows x 151 columns]"
      ]
     },
     "execution_count": 1263,
     "metadata": {},
     "output_type": "execute_result"
    }
   ],
   "source": [
    "us_data.head()"
   ]
  },
  {
   "cell_type": "code",
   "execution_count": 1264,
   "metadata": {},
   "outputs": [
    {
     "data": {
      "text/html": [
       "<div>\n",
       "<style scoped>\n",
       "    .dataframe tbody tr th:only-of-type {\n",
       "        vertical-align: middle;\n",
       "    }\n",
       "\n",
       "    .dataframe tbody tr th {\n",
       "        vertical-align: top;\n",
       "    }\n",
       "\n",
       "    .dataframe thead th {\n",
       "        text-align: right;\n",
       "    }\n",
       "</style>\n",
       "<table border=\"1\" class=\"dataframe\">\n",
       "  <thead>\n",
       "    <tr style=\"text-align: right;\">\n",
       "      <th></th>\n",
       "      <th>NAME</th>\n",
       "      <th>USPOP</th>\n",
       "    </tr>\n",
       "  </thead>\n",
       "  <tbody>\n",
       "    <tr>\n",
       "      <th>5</th>\n",
       "      <td>ALABAMA</td>\n",
       "      <td>4.800031e+06</td>\n",
       "    </tr>\n",
       "    <tr>\n",
       "      <th>6</th>\n",
       "      <td>ALASKA</td>\n",
       "      <td>7.221603e+05</td>\n",
       "    </tr>\n",
       "    <tr>\n",
       "      <th>7</th>\n",
       "      <td>ARIZONA</td>\n",
       "      <td>6.478264e+06</td>\n",
       "    </tr>\n",
       "    <tr>\n",
       "      <th>8</th>\n",
       "      <td>ARKANSAS</td>\n",
       "      <td>2.938265e+06</td>\n",
       "    </tr>\n",
       "    <tr>\n",
       "      <th>9</th>\n",
       "      <td>CALIFORNIA</td>\n",
       "      <td>3.763556e+07</td>\n",
       "    </tr>\n",
       "    <tr>\n",
       "      <th>10</th>\n",
       "      <td>COLORADO</td>\n",
       "      <td>5.120368e+06</td>\n",
       "    </tr>\n",
       "    <tr>\n",
       "      <th>11</th>\n",
       "      <td>CONNECTICUT</td>\n",
       "      <td>3.587315e+06</td>\n",
       "    </tr>\n",
       "    <tr>\n",
       "      <th>12</th>\n",
       "      <td>DELAWARE</td>\n",
       "      <td>9.073843e+05</td>\n",
       "    </tr>\n",
       "    <tr>\n",
       "      <th>13</th>\n",
       "      <td>DISTRICT OF COLUMBIA</td>\n",
       "      <td>6.199833e+05</td>\n",
       "    </tr>\n",
       "    <tr>\n",
       "      <th>14</th>\n",
       "      <td>FLORIDA</td>\n",
       "      <td>1.906553e+07</td>\n",
       "    </tr>\n",
       "    <tr>\n",
       "      <th>15</th>\n",
       "      <td>GEORGIA</td>\n",
       "      <td>9.805247e+06</td>\n",
       "    </tr>\n",
       "    <tr>\n",
       "      <th>16</th>\n",
       "      <td>HAWAII</td>\n",
       "      <td>1.379365e+06</td>\n",
       "    </tr>\n",
       "    <tr>\n",
       "      <th>17</th>\n",
       "      <td>IDAHO</td>\n",
       "      <td>1.583327e+06</td>\n",
       "    </tr>\n",
       "    <tr>\n",
       "      <th>18</th>\n",
       "      <td>ILLINOIS</td>\n",
       "      <td>1.286349e+07</td>\n",
       "    </tr>\n",
       "    <tr>\n",
       "      <th>19</th>\n",
       "      <td>INDIANA</td>\n",
       "      <td>6.514888e+06</td>\n",
       "    </tr>\n",
       "    <tr>\n",
       "      <th>20</th>\n",
       "      <td>IOWA</td>\n",
       "      <td>3.064424e+06</td>\n",
       "    </tr>\n",
       "    <tr>\n",
       "      <th>21</th>\n",
       "      <td>KANSAS</td>\n",
       "      <td>2.870891e+06</td>\n",
       "    </tr>\n",
       "    <tr>\n",
       "      <th>22</th>\n",
       "      <td>KENTUCKY</td>\n",
       "      <td>4.368116e+06</td>\n",
       "    </tr>\n",
       "    <tr>\n",
       "      <th>23</th>\n",
       "      <td>LOUISIANA</td>\n",
       "      <td>4.573710e+06</td>\n",
       "    </tr>\n",
       "    <tr>\n",
       "      <th>24</th>\n",
       "      <td>MAINE</td>\n",
       "      <td>1.327881e+06</td>\n",
       "    </tr>\n",
       "    <tr>\n",
       "      <th>25</th>\n",
       "      <td>MARYLAND</td>\n",
       "      <td>5.838352e+06</td>\n",
       "    </tr>\n",
       "    <tr>\n",
       "      <th>26</th>\n",
       "      <td>MASSACHUSETTS</td>\n",
       "      <td>6.614298e+06</td>\n",
       "    </tr>\n",
       "    <tr>\n",
       "      <th>27</th>\n",
       "      <td>MICHIGAN</td>\n",
       "      <td>9.885689e+06</td>\n",
       "    </tr>\n",
       "    <tr>\n",
       "      <th>28</th>\n",
       "      <td>MINNESOTA</td>\n",
       "      <td>5.344538e+06</td>\n",
       "    </tr>\n",
       "    <tr>\n",
       "      <th>29</th>\n",
       "      <td>MISSISSIPPI</td>\n",
       "      <td>2.977698e+06</td>\n",
       "    </tr>\n",
       "    <tr>\n",
       "      <th>30</th>\n",
       "      <td>MISSOURI</td>\n",
       "      <td>6.010205e+06</td>\n",
       "    </tr>\n",
       "    <tr>\n",
       "      <th>31</th>\n",
       "      <td>MONTANA</td>\n",
       "      <td>9.972653e+05</td>\n",
       "    </tr>\n",
       "    <tr>\n",
       "      <th>32</th>\n",
       "      <td>NEBRASKA</td>\n",
       "      <td>1.841172e+06</td>\n",
       "    </tr>\n",
       "    <tr>\n",
       "      <th>33</th>\n",
       "      <td>NEVADA</td>\n",
       "      <td>2.719710e+06</td>\n",
       "    </tr>\n",
       "    <tr>\n",
       "      <th>34</th>\n",
       "      <td>NEW HAMPSHIRE</td>\n",
       "      <td>1.320399e+06</td>\n",
       "    </tr>\n",
       "    <tr>\n",
       "      <th>35</th>\n",
       "      <td>NEW JERSEY</td>\n",
       "      <td>8.824168e+06</td>\n",
       "    </tr>\n",
       "    <tr>\n",
       "      <th>36</th>\n",
       "      <td>NEW MEXICO</td>\n",
       "      <td>2.077437e+06</td>\n",
       "    </tr>\n",
       "    <tr>\n",
       "      <th>37</th>\n",
       "      <td>NEW YORK</td>\n",
       "      <td>1.949068e+07</td>\n",
       "    </tr>\n",
       "    <tr>\n",
       "      <th>38</th>\n",
       "      <td>NORTH CAROLINA</td>\n",
       "      <td>9.660464e+06</td>\n",
       "    </tr>\n",
       "    <tr>\n",
       "      <th>39</th>\n",
       "      <td>NORTH DAKOTA</td>\n",
       "      <td>6.870387e+05</td>\n",
       "    </tr>\n",
       "    <tr>\n",
       "      <th>40</th>\n",
       "      <td>OHIO</td>\n",
       "      <td>1.154431e+07</td>\n",
       "    </tr>\n",
       "    <tr>\n",
       "      <th>41</th>\n",
       "      <td>OKLAHOMA</td>\n",
       "      <td>3.789046e+06</td>\n",
       "    </tr>\n",
       "    <tr>\n",
       "      <th>42</th>\n",
       "      <td>OREGON</td>\n",
       "      <td>3.869509e+06</td>\n",
       "    </tr>\n",
       "    <tr>\n",
       "      <th>43</th>\n",
       "      <td>PENNSYLVANIA</td>\n",
       "      <td>1.274136e+07</td>\n",
       "    </tr>\n",
       "    <tr>\n",
       "      <th>44</th>\n",
       "      <td>RHODE ISLAND</td>\n",
       "      <td>1.054076e+06</td>\n",
       "    </tr>\n",
       "    <tr>\n",
       "      <th>45</th>\n",
       "      <td>SOUTH CAROLINA</td>\n",
       "      <td>4.674999e+06</td>\n",
       "    </tr>\n",
       "    <tr>\n",
       "      <th>46</th>\n",
       "      <td>SOUTH DAKOTA</td>\n",
       "      <td>8.244370e+05</td>\n",
       "    </tr>\n",
       "    <tr>\n",
       "      <th>47</th>\n",
       "      <td>TENNESSEE</td>\n",
       "      <td>6.402833e+06</td>\n",
       "    </tr>\n",
       "    <tr>\n",
       "      <th>48</th>\n",
       "      <td>TEXAS</td>\n",
       "      <td>2.565736e+07</td>\n",
       "    </tr>\n",
       "    <tr>\n",
       "      <th>49</th>\n",
       "      <td>UTAH</td>\n",
       "      <td>2.814364e+06</td>\n",
       "    </tr>\n",
       "    <tr>\n",
       "      <th>50</th>\n",
       "      <td>VERMONT</td>\n",
       "      <td>6.263393e+05</td>\n",
       "    </tr>\n",
       "    <tr>\n",
       "      <th>51</th>\n",
       "      <td>VIRGINIA</td>\n",
       "      <td>8.103311e+06</td>\n",
       "    </tr>\n",
       "    <tr>\n",
       "      <th>52</th>\n",
       "      <td>WASHINGTON</td>\n",
       "      <td>6.822172e+06</td>\n",
       "    </tr>\n",
       "    <tr>\n",
       "      <th>53</th>\n",
       "      <td>WEST VIRGINIA</td>\n",
       "      <td>1.855804e+06</td>\n",
       "    </tr>\n",
       "    <tr>\n",
       "      <th>54</th>\n",
       "      <td>WISCONSIN</td>\n",
       "      <td>5.705241e+06</td>\n",
       "    </tr>\n",
       "    <tr>\n",
       "      <th>55</th>\n",
       "      <td>WYOMING</td>\n",
       "      <td>5.693637e+05</td>\n",
       "    </tr>\n",
       "    <tr>\n",
       "      <th>56</th>\n",
       "      <td>PUERTO RICO</td>\n",
       "      <td>3.678248e+06</td>\n",
       "    </tr>\n",
       "  </tbody>\n",
       "</table>\n",
       "</div>"
      ],
      "text/plain": [
       "                    NAME         USPOP\n",
       "5                ALABAMA  4.800031e+06\n",
       "6                 ALASKA  7.221603e+05\n",
       "7                ARIZONA  6.478264e+06\n",
       "8               ARKANSAS  2.938265e+06\n",
       "9             CALIFORNIA  3.763556e+07\n",
       "10              COLORADO  5.120368e+06\n",
       "11           CONNECTICUT  3.587315e+06\n",
       "12              DELAWARE  9.073843e+05\n",
       "13  DISTRICT OF COLUMBIA  6.199833e+05\n",
       "14               FLORIDA  1.906553e+07\n",
       "15               GEORGIA  9.805247e+06\n",
       "16                HAWAII  1.379365e+06\n",
       "17                 IDAHO  1.583327e+06\n",
       "18              ILLINOIS  1.286349e+07\n",
       "19               INDIANA  6.514888e+06\n",
       "20                  IOWA  3.064424e+06\n",
       "21                KANSAS  2.870891e+06\n",
       "22              KENTUCKY  4.368116e+06\n",
       "23             LOUISIANA  4.573710e+06\n",
       "24                 MAINE  1.327881e+06\n",
       "25              MARYLAND  5.838352e+06\n",
       "26         MASSACHUSETTS  6.614298e+06\n",
       "27              MICHIGAN  9.885689e+06\n",
       "28             MINNESOTA  5.344538e+06\n",
       "29           MISSISSIPPI  2.977698e+06\n",
       "30              MISSOURI  6.010205e+06\n",
       "31               MONTANA  9.972653e+05\n",
       "32              NEBRASKA  1.841172e+06\n",
       "33                NEVADA  2.719710e+06\n",
       "34         NEW HAMPSHIRE  1.320399e+06\n",
       "35            NEW JERSEY  8.824168e+06\n",
       "36            NEW MEXICO  2.077437e+06\n",
       "37              NEW YORK  1.949068e+07\n",
       "38        NORTH CAROLINA  9.660464e+06\n",
       "39          NORTH DAKOTA  6.870387e+05\n",
       "40                  OHIO  1.154431e+07\n",
       "41              OKLAHOMA  3.789046e+06\n",
       "42                OREGON  3.869509e+06\n",
       "43          PENNSYLVANIA  1.274136e+07\n",
       "44          RHODE ISLAND  1.054076e+06\n",
       "45        SOUTH CAROLINA  4.674999e+06\n",
       "46          SOUTH DAKOTA  8.244370e+05\n",
       "47             TENNESSEE  6.402833e+06\n",
       "48                 TEXAS  2.565736e+07\n",
       "49                  UTAH  2.814364e+06\n",
       "50               VERMONT  6.263393e+05\n",
       "51              VIRGINIA  8.103311e+06\n",
       "52            WASHINGTON  6.822172e+06\n",
       "53         WEST VIRGINIA  1.855804e+06\n",
       "54             WISCONSIN  5.705241e+06\n",
       "55               WYOMING  5.693637e+05\n",
       "56           PUERTO RICO  3.678248e+06"
      ]
     },
     "execution_count": 1264,
     "metadata": {},
     "output_type": "execute_result"
    }
   ],
   "source": [
    "us_data['USPOP'] = us_data[['POPESTIMATE2010', 'POPESTIMATE2011', 'POPESTIMATE2012']].mean(axis=1).astype(float)\n",
    "clean_us_data = us_data[['NAME', 'USPOP']].copy()\n",
    "clean_us_data = clean_us_data.iloc[5:]\n",
    "clean_us_data['NAME'] = clean_us_data['NAME'].str.upper()\n",
    "clean_us_data"
   ]
  },
  {
   "cell_type": "code",
   "execution_count": 1265,
   "metadata": {},
   "outputs": [
    {
     "data": {
      "text/html": [
       "<div>\n",
       "<style scoped>\n",
       "    .dataframe tbody tr th:only-of-type {\n",
       "        vertical-align: middle;\n",
       "    }\n",
       "\n",
       "    .dataframe tbody tr th {\n",
       "        vertical-align: top;\n",
       "    }\n",
       "\n",
       "    .dataframe thead th {\n",
       "        text-align: right;\n",
       "    }\n",
       "</style>\n",
       "<table border=\"1\" class=\"dataframe\">\n",
       "  <thead>\n",
       "    <tr style=\"text-align: right;\">\n",
       "      <th></th>\n",
       "      <th>STATE</th>\n",
       "      <th>BEEPOP</th>\n",
       "      <th>USPOP</th>\n",
       "    </tr>\n",
       "  </thead>\n",
       "  <tbody>\n",
       "    <tr>\n",
       "      <th>0</th>\n",
       "      <td>ALABAMA</td>\n",
       "      <td>9.142500e+06</td>\n",
       "      <td>4.800031e+06</td>\n",
       "    </tr>\n",
       "    <tr>\n",
       "      <th>1</th>\n",
       "      <td>ALASKA</td>\n",
       "      <td>1.092000e+07</td>\n",
       "      <td>7.221603e+05</td>\n",
       "    </tr>\n",
       "    <tr>\n",
       "      <th>2</th>\n",
       "      <td>ARIZONA</td>\n",
       "      <td>1.620000e+07</td>\n",
       "      <td>6.478264e+06</td>\n",
       "    </tr>\n",
       "    <tr>\n",
       "      <th>3</th>\n",
       "      <td>ARKANSAS</td>\n",
       "      <td>6.058500e+06</td>\n",
       "      <td>2.938265e+06</td>\n",
       "    </tr>\n",
       "    <tr>\n",
       "      <th>4</th>\n",
       "      <td>CALIFORNIA</td>\n",
       "      <td>1.639412e+07</td>\n",
       "      <td>3.763556e+07</td>\n",
       "    </tr>\n",
       "  </tbody>\n",
       "</table>\n",
       "</div>"
      ],
      "text/plain": [
       "        STATE        BEEPOP         USPOP\n",
       "0     ALABAMA  9.142500e+06  4.800031e+06\n",
       "1      ALASKA  1.092000e+07  7.221603e+05\n",
       "2     ARIZONA  1.620000e+07  6.478264e+06\n",
       "3    ARKANSAS  6.058500e+06  2.938265e+06\n",
       "4  CALIFORNIA  1.639412e+07  3.763556e+07"
      ]
     },
     "execution_count": 1265,
     "metadata": {},
     "output_type": "execute_result"
    }
   ],
   "source": [
    "combined_data = pd.merge(clean_bee_data, clean_us_data, left_on='State', right_on='NAME', how='outer')\n",
    "combined_data.insert(0, 'STATE', combined_data['State'])\n",
    "combined_data.drop(['State', 'NAME'], axis=1, inplace=True)\n",
    "combined_data.dropna(inplace=True)\n",
    "#combined_data['BEEPOP'] = combined_data['BEEPOP'].apply(lambda x: '{:.2f}M'.format(x / 1000000))\n",
    "#combined_data['USPOP'] = combined_data['USPOP'].apply(lambda x: '{:.2f}M'.format(x / 1000000))\n",
    "combined_data = pd.DataFrame({'STATE': combined_data['STATE'], 'BEEPOP': combined_data['BEEPOP'], 'USPOP': combined_data['USPOP']})\n",
    "combined_data.head()\n"
   ]
  },
  {
   "cell_type": "code",
   "execution_count": 1266,
   "metadata": {},
   "outputs": [
    {
     "data": {
      "text/html": [
       "<div>\n",
       "<style scoped>\n",
       "    .dataframe tbody tr th:only-of-type {\n",
       "        vertical-align: middle;\n",
       "    }\n",
       "\n",
       "    .dataframe tbody tr th {\n",
       "        vertical-align: top;\n",
       "    }\n",
       "\n",
       "    .dataframe thead th {\n",
       "        text-align: right;\n",
       "    }\n",
       "</style>\n",
       "<table border=\"1\" class=\"dataframe\">\n",
       "  <thead>\n",
       "    <tr style=\"text-align: right;\">\n",
       "      <th></th>\n",
       "      <th></th>\n",
       "      <th>BEETOTAL</th>\n",
       "      <th>USTOTAL</th>\n",
       "    </tr>\n",
       "  </thead>\n",
       "  <tbody>\n",
       "    <tr>\n",
       "      <th>0</th>\n",
       "      <td>UnitedStates</td>\n",
       "      <td>534.301688</td>\n",
       "      <td>310.94986</td>\n",
       "    </tr>\n",
       "  </tbody>\n",
       "</table>\n",
       "</div>"
      ],
      "text/plain": [
       "                   BEETOTAL    USTOTAL\n",
       "0  UnitedStates  534.301688  310.94986"
      ]
     },
     "execution_count": 1266,
     "metadata": {},
     "output_type": "execute_result"
    }
   ],
   "source": [
    "sum_1 = combined_data['BEEPOP'].sum() / 1000000\n",
    "sum_2 = combined_data['USPOP'].sum() / 1000000        \n",
    "\n",
    "totals_data = pd.DataFrame({\n",
    "    '': ['UnitedStates'],\n",
    "    'BEETOTAL': [sum_1],\n",
    "    'USTOTAL': [sum_2]\n",
    "})\n",
    "totals_data\n"
   ]
  },
  {
   "cell_type": "code",
   "execution_count": 1267,
   "metadata": {},
   "outputs": [
    {
     "data": {
      "image/png": "[encoded data removed]",
      "text/plain": [
       "<Figure size 1296x1008 with 1 Axes>"
      ]
     },
     "metadata": {
      "needs_background": "light"
     },
     "output_type": "display_data"
    }
   ],
   "source": [
    "categories = totals_data.columns[1:3]\n",
    "values = totals_data.values[0][1:3]\n",
    "\n",
    "# Create the figure and axis\n",
    "fig, ax = plt.subplots(figsize=(18, 14))\n",
    "\n",
    "# Define the colors for the bars\n",
    "colors = ['yellow', 'black']\n",
    "\n",
    "# Plot the horizontal bar chart with different colors\n",
    "bars = ax.barh(categories, values, color=colors)\n",
    "\n",
    "# Set the axis labels and title\n",
    "ax.set_xlabel('Population (Millions)')\n",
    "ax.set_ylabel('Census')\n",
    "ax.set_title('Honeybee:Human Ratio')\n",
    "\n",
    "# Add annotations for the numerical values\n",
    "for i, bar in enumerate(bars):\n",
    "    value = values[i]\n",
    "    width = bar.get_width()\n",
    "    height = bar.get_height()\n",
    "    x = bar.get_x() + width + 10\n",
    "    y = bar.get_y() + height / 2\n",
    "    ax.text(x, y, f'{value:.2f}', ha='left', va='center')\n",
    "\n",
    "# Display the plot\n",
    "plt.show()"
   ]
  },
  {
   "cell_type": "code",
   "execution_count": 1268,
   "metadata": {},
   "outputs": [
    {
     "data": {
      "application/vnd.plotly.v1+json": {
       "config": {
        "plotlyServerURL": "https://plot.ly"
       },
       "data": [
        {
         "marker": {
          "color": [
           "black",
           "yellow"
          ],
          "size": [
           389.4695760823013,
           510.5304239176989
          ],
          "sizemode": "diameter"
         },
         "mode": "markers+text",
         "type": "scatter",
         "x": [
          -0.8508840398628315,
          0.6491159601371688
         ],
         "y": [
          1,
          0.6
         ]
        }
       ],
       "layout": {
        "annotations": [
         {
          "arrowhead": 2,
          "ax": 15,
          "ay": -85,
          "font": {
           "family": "Arial, bold",
           "size": 14
          },
          "showarrow": true,
          "text": "Total Human Population: 310.9M",
          "x": -0.8508840398628315,
          "xref": "x",
          "y": 1,
          "yref": "y"
         },
         {
          "arrowhead": 2,
          "ax": 15,
          "ay": 50,
          "font": {
           "family": "Arial, bold",
           "size": 14
          },
          "showarrow": true,
          "text": "Total Honeybee Population: 534.3M",
          "x": 0.6491159601371688,
          "xref": "x",
          "y": 0.5,
          "yref": "y"
         }
        ],
        "height": 900,
        "showlegend": false,
        "template": {
         "data": {
          "bar": [
           {
            "error_x": {
             "color": "#2a3f5f"
            },
            "error_y": {
             "color": "#2a3f5f"
            },
            "marker": {
             "line": {
              "color": "#E5ECF6",
              "width": 0.5
             },
             "pattern": {
              "fillmode": "overlay",
              "size": 10,
              "solidity": 0.2
             }
            },
            "type": "bar"
           }
          ],
          "barpolar": [
           {
            "marker": {
             "line": {
              "color": "#E5ECF6",
              "width": 0.5
             },
             "pattern": {
              "fillmode": "overlay",
              "size": 10,
              "solidity": 0.2
             }
            },
            "type": "barpolar"
           }
          ],
          "carpet": [
           {
            "aaxis": {
             "endlinecolor": "#2a3f5f",
             "gridcolor": "white",
             "linecolor": "white",
             "minorgridcolor": "white",
             "startlinecolor": "#2a3f5f"
            },
            "baxis": {
             "endlinecolor": "#2a3f5f",
             "gridcolor": "white",
             "linecolor": "white",
             "minorgridcolor": "white",
             "startlinecolor": "#2a3f5f"
            },
            "type": "carpet"
           }
          ],
          "choropleth": [
           {
            "colorbar": {
             "outlinewidth": 0,
             "ticks": ""
            },
            "type": "choropleth"
           }
          ],
          "contour": [
           {
            "colorbar": {
             "outlinewidth": 0,
             "ticks": ""
            },
            "colorscale": [
             [
              0,
              "#0d0887"
             ],
             [
              0.1111111111111111,
              "#46039f"
             ],
             [
              0.2222222222222222,
              "#7201a8"
             ],
             [
              0.3333333333333333,
              "#9c179e"
             ],
             [
              0.4444444444444444,
              "#bd3786"
             ],
             [
              0.5555555555555556,
              "#d8576b"
             ],
             [
              0.6666666666666666,
              "#ed7953"
             ],
             [
              0.7777777777777778,
              "#fb9f3a"
             ],
             [
              0.8888888888888888,
              "#fdca26"
             ],
             [
              1,
              "#f0f921"
             ]
            ],
            "type": "contour"
           }
          ],
          "contourcarpet": [
           {
            "colorbar": {
             "outlinewidth": 0,
             "ticks": ""
            },
            "type": "contourcarpet"
           }
          ],
          "heatmap": [
           {
            "colorbar": {
             "outlinewidth": 0,
             "ticks": ""
            },
            "colorscale": [
             [
              0,
              "#0d0887"
             ],
             [
              0.1111111111111111,
              "#46039f"
             ],
             [
              0.2222222222222222,
              "#7201a8"
             ],
             [
              0.3333333333333333,
              "#9c179e"
             ],
             [
              0.4444444444444444,
              "#bd3786"
             ],
             [
              0.5555555555555556,
              "#d8576b"
             ],
             [
              0.6666666666666666,
              "#ed7953"
             ],
             [
              0.7777777777777778,
              "#fb9f3a"
             ],
             [
              0.8888888888888888,
              "#fdca26"
             ],
             [
              1,
              "#f0f921"
             ]
            ],
            "type": "heatmap"
           }
          ],
          "heatmapgl": [
           {
            "colorbar": {
             "outlinewidth": 0,
             "ticks": ""
            },
            "colorscale": [
             [
              0,
              "#0d0887"
             ],
             [
              0.1111111111111111,
              "#46039f"
             ],
             [
              0.2222222222222222,
              "#7201a8"
             ],
             [
              0.3333333333333333,
              "#9c179e"
             ],
             [
              0.4444444444444444,
              "#bd3786"
             ],
             [
              0.5555555555555556,
              "#d8576b"
             ],
             [
              0.6666666666666666,
              "#ed7953"
             ],
             [
              0.7777777777777778,
              "#fb9f3a"
             ],
             [
              0.8888888888888888,
              "#fdca26"
             ],
             [
              1,
              "#f0f921"
             ]
            ],
            "type": "heatmapgl"
           }
          ],
          "histogram": [
           {
            "marker": {
             "pattern": {
              "fillmode": "overlay",
              "size": 10,
              "solidity": 0.2
             }
            },
            "type": "histogram"
           }
          ],
          "histogram2d": [
           {
            "colorbar": {
             "outlinewidth": 0,
             "ticks": ""
            },
            "colorscale": [
             [
              0,
              "#0d0887"
             ],
             [
              0.1111111111111111,
              "#46039f"
             ],
             [
              0.2222222222222222,
              "#7201a8"
             ],
             [
              0.3333333333333333,
              "#9c179e"
             ],
             [
              0.4444444444444444,
              "#bd3786"
             ],
             [
              0.5555555555555556,
              "#d8576b"
             ],
             [
              0.6666666666666666,
              "#ed7953"
             ],
             [
              0.7777777777777778,
              "#fb9f3a"
             ],
             [
              0.8888888888888888,
              "#fdca26"
             ],
             [
              1,
              "#f0f921"
             ]
            ],
            "type": "histogram2d"
           }
          ],
          "histogram2dcontour": [
           {
            "colorbar": {
             "outlinewidth": 0,
             "ticks": ""
            },
            "colorscale": [
             [
              0,
              "#0d0887"
             ],
             [
              0.1111111111111111,
              "#46039f"
             ],
             [
              0.2222222222222222,
              "#7201a8"
             ],
             [
              0.3333333333333333,
              "#9c179e"
             ],
             [
              0.4444444444444444,
              "#bd3786"
             ],
             [
              0.5555555555555556,
              "#d8576b"
             ],
             [
              0.6666666666666666,
              "#ed7953"
             ],
             [
              0.7777777777777778,
              "#fb9f3a"
             ],
             [
              0.8888888888888888,
              "#fdca26"
             ],
             [
              1,
              "#f0f921"
             ]
            ],
            "type": "histogram2dcontour"
           }
          ],
          "mesh3d": [
           {
            "colorbar": {
             "outlinewidth": 0,
             "ticks": ""
            },
            "type": "mesh3d"
           }
          ],
          "parcoords": [
           {
            "line": {
             "colorbar": {
              "outlinewidth": 0,
              "ticks": ""
             }
            },
            "type": "parcoords"
           }
          ],
          "pie": [
           {
            "automargin": true,
            "type": "pie"
           }
          ],
          "scatter": [
           {
            "fillpattern": {
             "fillmode": "overlay",
             "size": 10,
             "solidity": 0.2
            },
            "type": "scatter"
           }
          ],
          "scatter3d": [
           {
            "line": {
             "colorbar": {
              "outlinewidth": 0,
              "ticks": ""
             }
            },
            "marker": {
             "colorbar": {
              "outlinewidth": 0,
              "ticks": ""
             }
            },
            "type": "scatter3d"
           }
          ],
          "scattercarpet": [
           {
            "marker": {
             "colorbar": {
              "outlinewidth": 0,
              "ticks": ""
             }
            },
            "type": "scattercarpet"
           }
          ],
          "scattergeo": [
           {
            "marker": {
             "colorbar": {
              "outlinewidth": 0,
              "ticks": ""
             }
            },
            "type": "scattergeo"
           }
          ],
          "scattergl": [
           {
            "marker": {
             "colorbar": {
              "outlinewidth": 0,
              "ticks": ""
             }
            },
            "type": "scattergl"
           }
          ],
          "scattermapbox": [
           {
            "marker": {
             "colorbar": {
              "outlinewidth": 0,
              "ticks": ""
             }
            },
            "type": "scattermapbox"
           }
          ],
          "scatterpolar": [
           {
            "marker": {
             "colorbar": {
              "outlinewidth": 0,
              "ticks": ""
             }
            },
            "type": "scatterpolar"
           }
          ],
          "scatterpolargl": [
           {
            "marker": {
             "colorbar": {
              "outlinewidth": 0,
              "ticks": ""
             }
            },
            "type": "scatterpolargl"
           }
          ],
          "scatterternary": [
           {
            "marker": {
             "colorbar": {
              "outlinewidth": 0,
              "ticks": ""
             }
            },
            "type": "scatterternary"
           }
          ],
          "surface": [
           {
            "colorbar": {
             "outlinewidth": 0,
             "ticks": ""
            },
            "colorscale": [
             [
              0,
              "#0d0887"
             ],
             [
              0.1111111111111111,
              "#46039f"
             ],
             [
              0.2222222222222222,
              "#7201a8"
             ],
             [
              0.3333333333333333,
              "#9c179e"
             ],
             [
              0.4444444444444444,
              "#bd3786"
             ],
             [
              0.5555555555555556,
              "#d8576b"
             ],
             [
              0.6666666666666666,
              "#ed7953"
             ],
             [
              0.7777777777777778,
              "#fb9f3a"
             ],
             [
              0.8888888888888888,
              "#fdca26"
             ],
             [
              1,
              "#f0f921"
             ]
            ],
            "type": "surface"
           }
          ],
          "table": [
           {
            "cells": {
             "fill": {
              "color": "#EBF0F8"
             },
             "line": {
              "color": "white"
             }
            },
            "header": {
             "fill": {
              "color": "#C8D4E3"
             },
             "line": {
              "color": "white"
             }
            },
            "type": "table"
           }
          ]
         },
         "layout": {
          "annotationdefaults": {
           "arrowcolor": "#2a3f5f",
           "arrowhead": 0,
           "arrowwidth": 1
          },
          "autotypenumbers": "strict",
          "coloraxis": {
           "colorbar": {
            "outlinewidth": 0,
            "ticks": ""
           }
          },
          "colorscale": {
           "diverging": [
            [
             0,
             "#8e0152"
            ],
            [
             0.1,
             "#c51b7d"
            ],
            [
             0.2,
             "#de77ae"
            ],
            [
             0.3,
             "#f1b6da"
            ],
            [
             0.4,
             "#fde0ef"
            ],
            [
             0.5,
             "#f7f7f7"
            ],
            [
             0.6,
             "#e6f5d0"
            ],
            [
             0.7,
             "#b8e186"
            ],
            [
             0.8,
             "#7fbc41"
            ],
            [
             0.9,
             "#4d9221"
            ],
            [
             1,
             "#276419"
            ]
           ],
           "sequential": [
            [
             0,
             "#0d0887"
            ],
            [
             0.1111111111111111,
             "#46039f"
            ],
            [
             0.2222222222222222,
             "#7201a8"
            ],
            [
             0.3333333333333333,
             "#9c179e"
            ],
            [
             0.4444444444444444,
             "#bd3786"
            ],
            [
             0.5555555555555556,
             "#d8576b"
            ],
            [
             0.6666666666666666,
             "#ed7953"
            ],
            [
             0.7777777777777778,
             "#fb9f3a"
            ],
            [
             0.8888888888888888,
             "#fdca26"
            ],
            [
             1,
             "#f0f921"
            ]
           ],
           "sequentialminus": [
            [
             0,
             "#0d0887"
            ],
            [
             0.1111111111111111,
             "#46039f"
            ],
            [
             0.2222222222222222,
             "#7201a8"
            ],
            [
             0.3333333333333333,
             "#9c179e"
            ],
            [
             0.4444444444444444,
             "#bd3786"
            ],
            [
             0.5555555555555556,
             "#d8576b"
            ],
            [
             0.6666666666666666,
             "#ed7953"
            ],
            [
             0.7777777777777778,
             "#fb9f3a"
            ],
            [
             0.8888888888888888,
             "#fdca26"
            ],
            [
             1,
             "#f0f921"
            ]
           ]
          },
          "colorway": [
           "#636efa",
           "#EF553B",
           "#00cc96",
           "#ab63fa",
           "#FFA15A",
           "#19d3f3",
           "#FF6692",
           "#B6E880",
           "#FF97FF",
           "#FECB52"
          ],
          "font": {
           "color": "#2a3f5f"
          },
          "geo": {
           "bgcolor": "white",
           "lakecolor": "white",
           "landcolor": "#E5ECF6",
           "showlakes": true,
           "showland": true,
           "subunitcolor": "white"
          },
          "hoverlabel": {
           "align": "left"
          },
          "hovermode": "closest",
          "mapbox": {
           "style": "light"
          },
          "paper_bgcolor": "white",
          "plot_bgcolor": "#E5ECF6",
          "polar": {
           "angularaxis": {
            "gridcolor": "white",
            "linecolor": "white",
            "ticks": ""
           },
           "bgcolor": "#E5ECF6",
           "radialaxis": {
            "gridcolor": "white",
            "linecolor": "white",
            "ticks": ""
           }
          },
          "scene": {
           "xaxis": {
            "backgroundcolor": "#E5ECF6",
            "gridcolor": "white",
            "gridwidth": 2,
            "linecolor": "white",
            "showbackground": true,
            "ticks": "",
            "zerolinecolor": "white"
           },
           "yaxis": {
            "backgroundcolor": "#E5ECF6",
            "gridcolor": "white",
            "gridwidth": 2,
            "linecolor": "white",
            "showbackground": true,
            "ticks": "",
            "zerolinecolor": "white"
           },
           "zaxis": {
            "backgroundcolor": "#E5ECF6",
            "gridcolor": "white",
            "gridwidth": 2,
            "linecolor": "white",
            "showbackground": true,
            "ticks": "",
            "zerolinecolor": "white"
           }
          },
          "shapedefaults": {
           "line": {
            "color": "#2a3f5f"
           }
          },
          "ternary": {
           "aaxis": {
            "gridcolor": "white",
            "linecolor": "white",
            "ticks": ""
           },
           "baxis": {
            "gridcolor": "white",
            "linecolor": "white",
            "ticks": ""
           },
           "bgcolor": "#E5ECF6",
           "caxis": {
            "gridcolor": "white",
            "linecolor": "white",
            "ticks": ""
           }
          },
          "title": {
           "x": 0.05
          },
          "xaxis": {
           "automargin": true,
           "gridcolor": "white",
           "linecolor": "white",
           "ticks": "",
           "title": {
            "standoff": 15
           },
           "zerolinecolor": "white",
           "zerolinewidth": 2
          },
          "yaxis": {
           "automargin": true,
           "gridcolor": "white",
           "linecolor": "white",
           "ticks": "",
           "title": {
            "standoff": 15
           },
           "zerolinecolor": "white",
           "zerolinewidth": 2
          }
         }
        },
        "title": {
         "font": {
          "family": "Arial, bold",
          "size": 32
         },
         "text": "Honeybee:Human Ratio"
        },
        "width": 900,
        "xaxis": {
         "showgrid": false,
         "showticklabels": false,
         "zeroline": false
        },
        "yaxis": {
         "showgrid": false,
         "showticklabels": false,
         "zeroline": false
        }
       }
      }
     },
     "metadata": {},
     "output_type": "display_data"
    }
   ],
   "source": [
    "total_human_population = combined_data['USPOP'].sum() / 1000000\n",
    "total_honeybee_population = combined_data['BEEPOP'].sum() / 1000000\n",
    "\n",
    "# Create labels for each bubble\n",
    "labels = [\n",
    "    f\"Total Human Population: {total_human_population:.1f}M\",\n",
    "    f\"Total Honeybee Population: {total_honeybee_population:.1f}M\"\n",
    "]\n",
    "\n",
    "# Create a DataFrame for the total population data\n",
    "totals_data = pd.DataFrame({\n",
    "    'Label': labels,\n",
    "    'Population': [total_human_population, total_honeybee_population]\n",
    "})\n",
    "\n",
    "# Use circlify to compute circle positions without repulsion to preserve manual adjustments\n",
    "circles = circlify.circlify(totals_data['Population'].tolist(), target_enclosure=circlify.Circle(x=0, y=0, r=1.5), show_enclosure=False)\n",
    "\n",
    "# Sort the circles based on their y-coordinate (from top to bottom)\n",
    "circles.sort(key=lambda circle: circle.y, reverse=True)\n",
    "\n",
    "# Adjust the positions of bubbles to prevent overlapping and increase separation\n",
    "y_offsets = [1.0, 0.6]  # Set desired y-offsets for the two circles\n",
    "adjusted_circles = [(circle.x, circle.y + y_offsets[i], circle.r) for i, circle in enumerate(circles)]\n",
    "\n",
    "# Create the trace for the bubble chart\n",
    "trace = go.Scatter(\n",
    "    x=[circle[0] for circle in adjusted_circles],\n",
    "    y=[circle[1] for circle in adjusted_circles],\n",
    "    mode='markers+text',\n",
    "    marker=dict(\n",
    "        color=['black', 'yellow'],  # Set the colors for the bubbles\n",
    "        size=[circle[2] * 600 for circle in adjusted_circles],  # Set the sizes of the bubbles (adjust the scaling factor)\n",
    "        sizemode='diameter',  # Use diameter mode to specify bubble sizes directly\n",
    "    ),\n",
    ")\n",
    "\n",
    "# Create the layout for the circle packing effect\n",
    "layout = go.Layout(\n",
    "    title=dict(text='Honeybee:Human Ratio', font=dict(size=32, family='Arial, bold')),  # Set the title font size\n",
    "    xaxis=dict(showgrid=False, zeroline=False, showticklabels=False),\n",
    "    yaxis=dict(showgrid=False, zeroline=False, showticklabels=False),\n",
    "    showlegend=False,\n",
    "    width=900,\n",
    "    height=900,\n",
    ")\n",
    "\n",
    "# Create the figure and add the trace to it\n",
    "fig = go.Figure(data=[trace], layout=layout)\n",
    "\n",
    "# Update the annotations to position them correctly\n",
    "annotations = []\n",
    "for i, circle in enumerate(adjusted_circles):\n",
    "    annotation = dict(\n",
    "        x=circle[0],\n",
    "        y=circle[1],\n",
    "        xref=\"x\",\n",
    "        yref=\"y\",\n",
    "        text=labels[i],\n",
    "        showarrow=True,\n",
    "        arrowhead=2,\n",
    "        ax=15,\n",
    "        ay=-85 if i == 0 else 50,\n",
    "        font=dict(size=14, family='Arial, bold')# Set a negative y-coordinate for the first annotation to position it above the bubble\n",
    "    )\n",
    "    if i == 1:\n",
    "        annotation['x'] = circle[0]\n",
    "        annotation['y'] = circle[1] - 0.1  # Adjust this value to set the desired y-coordinate for the second annotation\n",
    "        \n",
    "    annotations.append(annotation)\n",
    "\n",
    "fig.update_layout(annotations=annotations)\n",
    "\n",
    "# Show the circle packing bubble chart\n",
    "fig.show()"
   ]
  },
  {
   "cell_type": "code",
   "execution_count": 1269,
   "metadata": {},
   "outputs": [
    {
     "data": {
      "application/vnd.plotly.v1+json": {
       "config": {
        "plotlyServerURL": "https://plot.ly"
       },
       "data": [
        {
         "marker": {
          "color": [
           "black",
           "yellow"
          ],
          "size": [
           389.4695760823013,
           510.5304239176989
          ],
          "sizemode": "diameter"
         },
         "mode": "markers+text",
         "type": "scatter",
         "x": [
          -0.8508840398628315,
          0.6491159601371688
         ],
         "y": [
          1,
          0.6
         ]
        }
       ],
       "layout": {
        "annotations": [
         {
          "font": {
           "family": "Arial, bold",
           "size": 14
          },
          "showarrow": false,
          "text": "Total Human Population: 310.9M",
          "x": -0.8508840398628315,
          "xref": "x",
          "y": 2,
          "yref": "y"
         },
         {
          "font": {
           "family": "Arial, bold",
           "size": 14
          },
          "showarrow": false,
          "text": "Total Honeybee Population: 534.3M",
          "x": 0.6491159601371688,
          "xref": "x",
          "y": -0.7000000000000001,
          "yref": "y"
         }
        ],
        "height": 900,
        "showlegend": false,
        "template": {
         "data": {
          "bar": [
           {
            "error_x": {
             "color": "#2a3f5f"
            },
            "error_y": {
             "color": "#2a3f5f"
            },
            "marker": {
             "line": {
              "color": "#E5ECF6",
              "width": 0.5
             },
             "pattern": {
              "fillmode": "overlay",
              "size": 10,
              "solidity": 0.2
             }
            },
            "type": "bar"
           }
          ],
          "barpolar": [
           {
            "marker": {
             "line": {
              "color": "#E5ECF6",
              "width": 0.5
             },
             "pattern": {
              "fillmode": "overlay",
              "size": 10,
              "solidity": 0.2
             }
            },
            "type": "barpolar"
           }
          ],
          "carpet": [
           {
            "aaxis": {
             "endlinecolor": "#2a3f5f",
             "gridcolor": "white",
             "linecolor": "white",
             "minorgridcolor": "white",
             "startlinecolor": "#2a3f5f"
            },
            "baxis": {
             "endlinecolor": "#2a3f5f",
             "gridcolor": "white",
             "linecolor": "white",
             "minorgridcolor": "white",
             "startlinecolor": "#2a3f5f"
            },
            "type": "carpet"
           }
          ],
          "choropleth": [
           {
            "colorbar": {
             "outlinewidth": 0,
             "ticks": ""
            },
            "type": "choropleth"
           }
          ],
          "contour": [
           {
            "colorbar": {
             "outlinewidth": 0,
             "ticks": ""
            },
            "colorscale": [
             [
              0,
              "#0d0887"
             ],
             [
              0.1111111111111111,
              "#46039f"
             ],
             [
              0.2222222222222222,
              "#7201a8"
             ],
             [
              0.3333333333333333,
              "#9c179e"
             ],
             [
              0.4444444444444444,
              "#bd3786"
             ],
             [
              0.5555555555555556,
              "#d8576b"
             ],
             [
              0.6666666666666666,
              "#ed7953"
             ],
             [
              0.7777777777777778,
              "#fb9f3a"
             ],
             [
              0.8888888888888888,
              "#fdca26"
             ],
             [
              1,
              "#f0f921"
             ]
            ],
            "type": "contour"
           }
          ],
          "contourcarpet": [
           {
            "colorbar": {
             "outlinewidth": 0,
             "ticks": ""
            },
            "type": "contourcarpet"
           }
          ],
          "heatmap": [
           {
            "colorbar": {
             "outlinewidth": 0,
             "ticks": ""
            },
            "colorscale": [
             [
              0,
              "#0d0887"
             ],
             [
              0.1111111111111111,
              "#46039f"
             ],
             [
              0.2222222222222222,
              "#7201a8"
             ],
             [
              0.3333333333333333,
              "#9c179e"
             ],
             [
              0.4444444444444444,
              "#bd3786"
             ],
             [
              0.5555555555555556,
              "#d8576b"
             ],
             [
              0.6666666666666666,
              "#ed7953"
             ],
             [
              0.7777777777777778,
              "#fb9f3a"
             ],
             [
              0.8888888888888888,
              "#fdca26"
             ],
             [
              1,
              "#f0f921"
             ]
            ],
            "type": "heatmap"
           }
          ],
          "heatmapgl": [
           {
            "colorbar": {
             "outlinewidth": 0,
             "ticks": ""
            },
            "colorscale": [
             [
              0,
              "#0d0887"
             ],
             [
              0.1111111111111111,
              "#46039f"
             ],
             [
              0.2222222222222222,
              "#7201a8"
             ],
             [
              0.3333333333333333,
              "#9c179e"
             ],
             [
              0.4444444444444444,
              "#bd3786"
             ],
             [
              0.5555555555555556,
              "#d8576b"
             ],
             [
              0.6666666666666666,
              "#ed7953"
             ],
             [
              0.7777777777777778,
              "#fb9f3a"
             ],
             [
              0.8888888888888888,
              "#fdca26"
             ],
             [
              1,
              "#f0f921"
             ]
            ],
            "type": "heatmapgl"
           }
          ],
          "histogram": [
           {
            "marker": {
             "pattern": {
              "fillmode": "overlay",
              "size": 10,
              "solidity": 0.2
             }
            },
            "type": "histogram"
           }
          ],
          "histogram2d": [
           {
            "colorbar": {
             "outlinewidth": 0,
             "ticks": ""
            },
            "colorscale": [
             [
              0,
              "#0d0887"
             ],
             [
              0.1111111111111111,
              "#46039f"
             ],
             [
              0.2222222222222222,
              "#7201a8"
             ],
             [
              0.3333333333333333,
              "#9c179e"
             ],
             [
              0.4444444444444444,
              "#bd3786"
             ],
             [
              0.5555555555555556,
              "#d8576b"
             ],
             [
              0.6666666666666666,
              "#ed7953"
             ],
             [
              0.7777777777777778,
              "#fb9f3a"
             ],
             [
              0.8888888888888888,
              "#fdca26"
             ],
             [
              1,
              "#f0f921"
             ]
            ],
            "type": "histogram2d"
           }
          ],
          "histogram2dcontour": [
           {
            "colorbar": {
             "outlinewidth": 0,
             "ticks": ""
            },
            "colorscale": [
             [
              0,
              "#0d0887"
             ],
             [
              0.1111111111111111,
              "#46039f"
             ],
             [
              0.2222222222222222,
              "#7201a8"
             ],
             [
              0.3333333333333333,
              "#9c179e"
             ],
             [
              0.4444444444444444,
              "#bd3786"
             ],
             [
              0.5555555555555556,
              "#d8576b"
             ],
             [
              0.6666666666666666,
              "#ed7953"
             ],
             [
              0.7777777777777778,
              "#fb9f3a"
             ],
             [
              0.8888888888888888,
              "#fdca26"
             ],
             [
              1,
              "#f0f921"
             ]
            ],
            "type": "histogram2dcontour"
           }
          ],
          "mesh3d": [
           {
            "colorbar": {
             "outlinewidth": 0,
             "ticks": ""
            },
            "type": "mesh3d"
           }
          ],
          "parcoords": [
           {
            "line": {
             "colorbar": {
              "outlinewidth": 0,
              "ticks": ""
             }
            },
            "type": "parcoords"
           }
          ],
          "pie": [
           {
            "automargin": true,
            "type": "pie"
           }
          ],
          "scatter": [
           {
            "fillpattern": {
             "fillmode": "overlay",
             "size": 10,
             "solidity": 0.2
            },
            "type": "scatter"
           }
          ],
          "scatter3d": [
           {
            "line": {
             "colorbar": {
              "outlinewidth": 0,
              "ticks": ""
             }
            },
            "marker": {
             "colorbar": {
              "outlinewidth": 0,
              "ticks": ""
             }
            },
            "type": "scatter3d"
           }
          ],
          "scattercarpet": [
           {
            "marker": {
             "colorbar": {
              "outlinewidth": 0,
              "ticks": ""
             }
            },
            "type": "scattercarpet"
           }
          ],
          "scattergeo": [
           {
            "marker": {
             "colorbar": {
              "outlinewidth": 0,
              "ticks": ""
             }
            },
            "type": "scattergeo"
           }
          ],
          "scattergl": [
           {
            "marker": {
             "colorbar": {
              "outlinewidth": 0,
              "ticks": ""
             }
            },
            "type": "scattergl"
           }
          ],
          "scattermapbox": [
           {
            "marker": {
             "colorbar": {
              "outlinewidth": 0,
              "ticks": ""
             }
            },
            "type": "scattermapbox"
           }
          ],
          "scatterpolar": [
           {
            "marker": {
             "colorbar": {
              "outlinewidth": 0,
              "ticks": ""
             }
            },
            "type": "scatterpolar"
           }
          ],
          "scatterpolargl": [
           {
            "marker": {
             "colorbar": {
              "outlinewidth": 0,
              "ticks": ""
             }
            },
            "type": "scatterpolargl"
           }
          ],
          "scatterternary": [
           {
            "marker": {
             "colorbar": {
              "outlinewidth": 0,
              "ticks": ""
             }
            },
            "type": "scatterternary"
           }
          ],
          "surface": [
           {
            "colorbar": {
             "outlinewidth": 0,
             "ticks": ""
            },
            "colorscale": [
             [
              0,
              "#0d0887"
             ],
             [
              0.1111111111111111,
              "#46039f"
             ],
             [
              0.2222222222222222,
              "#7201a8"
             ],
             [
              0.3333333333333333,
              "#9c179e"
             ],
             [
              0.4444444444444444,
              "#bd3786"
             ],
             [
              0.5555555555555556,
              "#d8576b"
             ],
             [
              0.6666666666666666,
              "#ed7953"
             ],
             [
              0.7777777777777778,
              "#fb9f3a"
             ],
             [
              0.8888888888888888,
              "#fdca26"
             ],
             [
              1,
              "#f0f921"
             ]
            ],
            "type": "surface"
           }
          ],
          "table": [
           {
            "cells": {
             "fill": {
              "color": "#EBF0F8"
             },
             "line": {
              "color": "white"
             }
            },
            "header": {
             "fill": {
              "color": "#C8D4E3"
             },
             "line": {
              "color": "white"
             }
            },
            "type": "table"
           }
          ]
         },
         "layout": {
          "annotationdefaults": {
           "arrowcolor": "#2a3f5f",
           "arrowhead": 0,
           "arrowwidth": 1
          },
          "autotypenumbers": "strict",
          "coloraxis": {
           "colorbar": {
            "outlinewidth": 0,
            "ticks": ""
           }
          },
          "colorscale": {
           "diverging": [
            [
             0,
             "#8e0152"
            ],
            [
             0.1,
             "#c51b7d"
            ],
            [
             0.2,
             "#de77ae"
            ],
            [
             0.3,
             "#f1b6da"
            ],
            [
             0.4,
             "#fde0ef"
            ],
            [
             0.5,
             "#f7f7f7"
            ],
            [
             0.6,
             "#e6f5d0"
            ],
            [
             0.7,
             "#b8e186"
            ],
            [
             0.8,
             "#7fbc41"
            ],
            [
             0.9,
             "#4d9221"
            ],
            [
             1,
             "#276419"
            ]
           ],
           "sequential": [
            [
             0,
             "#0d0887"
            ],
            [
             0.1111111111111111,
             "#46039f"
            ],
            [
             0.2222222222222222,
             "#7201a8"
            ],
            [
             0.3333333333333333,
             "#9c179e"
            ],
            [
             0.4444444444444444,
             "#bd3786"
            ],
            [
             0.5555555555555556,
             "#d8576b"
            ],
            [
             0.6666666666666666,
             "#ed7953"
            ],
            [
             0.7777777777777778,
             "#fb9f3a"
            ],
            [
             0.8888888888888888,
             "#fdca26"
            ],
            [
             1,
             "#f0f921"
            ]
           ],
           "sequentialminus": [
            [
             0,
             "#0d0887"
            ],
            [
             0.1111111111111111,
             "#46039f"
            ],
            [
             0.2222222222222222,
             "#7201a8"
            ],
            [
             0.3333333333333333,
             "#9c179e"
            ],
            [
             0.4444444444444444,
             "#bd3786"
            ],
            [
             0.5555555555555556,
             "#d8576b"
            ],
            [
             0.6666666666666666,
             "#ed7953"
            ],
            [
             0.7777777777777778,
             "#fb9f3a"
            ],
            [
             0.8888888888888888,
             "#fdca26"
            ],
            [
             1,
             "#f0f921"
            ]
           ]
          },
          "colorway": [
           "#636efa",
           "#EF553B",
           "#00cc96",
           "#ab63fa",
           "#FFA15A",
           "#19d3f3",
           "#FF6692",
           "#B6E880",
           "#FF97FF",
           "#FECB52"
          ],
          "font": {
           "color": "#2a3f5f"
          },
          "geo": {
           "bgcolor": "white",
           "lakecolor": "white",
           "landcolor": "#E5ECF6",
           "showlakes": true,
           "showland": true,
           "subunitcolor": "white"
          },
          "hoverlabel": {
           "align": "left"
          },
          "hovermode": "closest",
          "mapbox": {
           "style": "light"
          },
          "paper_bgcolor": "white",
          "plot_bgcolor": "#E5ECF6",
          "polar": {
           "angularaxis": {
            "gridcolor": "white",
            "linecolor": "white",
            "ticks": ""
           },
           "bgcolor": "#E5ECF6",
           "radialaxis": {
            "gridcolor": "white",
            "linecolor": "white",
            "ticks": ""
           }
          },
          "scene": {
           "xaxis": {
            "backgroundcolor": "#E5ECF6",
            "gridcolor": "white",
            "gridwidth": 2,
            "linecolor": "white",
            "showbackground": true,
            "ticks": "",
            "zerolinecolor": "white"
           },
           "yaxis": {
            "backgroundcolor": "#E5ECF6",
            "gridcolor": "white",
            "gridwidth": 2,
            "linecolor": "white",
            "showbackground": true,
            "ticks": "",
            "zerolinecolor": "white"
           },
           "zaxis": {
            "backgroundcolor": "#E5ECF6",
            "gridcolor": "white",
            "gridwidth": 2,
            "linecolor": "white",
            "showbackground": true,
            "ticks": "",
            "zerolinecolor": "white"
           }
          },
          "shapedefaults": {
           "line": {
            "color": "#2a3f5f"
           }
          },
          "ternary": {
           "aaxis": {
            "gridcolor": "white",
            "linecolor": "white",
            "ticks": ""
           },
           "baxis": {
            "gridcolor": "white",
            "linecolor": "white",
            "ticks": ""
           },
           "bgcolor": "#E5ECF6",
           "caxis": {
            "gridcolor": "white",
            "linecolor": "white",
            "ticks": ""
           }
          },
          "title": {
           "x": 0.05
          },
          "xaxis": {
           "automargin": true,
           "gridcolor": "white",
           "linecolor": "white",
           "ticks": "",
           "title": {
            "standoff": 15
           },
           "zerolinecolor": "white",
           "zerolinewidth": 2
          },
          "yaxis": {
           "automargin": true,
           "gridcolor": "white",
           "linecolor": "white",
           "ticks": "",
           "title": {
            "standoff": 15
           },
           "zerolinecolor": "white",
           "zerolinewidth": 2
          }
         }
        },
        "title": {
         "font": {
          "family": "Arial, bold",
          "size": 32
         },
         "text": "Honeybee:Human Ratio"
        },
        "width": 900,
        "xaxis": {
         "showgrid": false,
         "showticklabels": false,
         "zeroline": false
        },
        "yaxis": {
         "showgrid": false,
         "showticklabels": false,
         "zeroline": false
        }
       }
      }
     },
     "metadata": {},
     "output_type": "display_data"
    }
   ],
   "source": [
    "total_human_population = combined_data['USPOP'].sum() / 1000000\n",
    "total_honeybee_population = combined_data['BEEPOP'].sum() / 1000000\n",
    "\n",
    "# Create labels for each bubble\n",
    "labels = [\n",
    "    f\"Total Human Population: {total_human_population:.1f}M\",\n",
    "    f\"Total Honeybee Population: {total_honeybee_population:.1f}M\"\n",
    "]\n",
    "\n",
    "# Create a DataFrame for the total population data\n",
    "totals_data = pd.DataFrame({\n",
    "    'Label': labels,\n",
    "    'Population': [total_human_population, total_honeybee_population]\n",
    "})\n",
    "\n",
    "# Use circlify to compute circle positions without repulsion to preserve manual adjustments\n",
    "circles = circlify.circlify(totals_data['Population'].tolist(), target_enclosure=circlify.Circle(x=0, y=0, r=1.5), show_enclosure=False)\n",
    "\n",
    "# Sort the circles based on their y-coordinate (from top to bottom)\n",
    "circles.sort(key=lambda circle: circle.y, reverse=True)\n",
    "\n",
    "# Adjust the positions of bubbles to prevent overlapping and increase separation\n",
    "y_offsets = [1.0, 0.6]  # Set desired y-offsets for the two circles\n",
    "adjusted_circles = [(circle.x, circle.y + y_offsets[i], circle.r) for i, circle in enumerate(circles)]\n",
    "\n",
    "# Create the trace for the bubble chart\n",
    "trace = go.Scatter(\n",
    "    x=[circle[0] for circle in adjusted_circles],\n",
    "    y=[circle[1] for circle in adjusted_circles],\n",
    "    mode='markers+text',\n",
    "    marker=dict(\n",
    "        color=['black', 'yellow'],  # Set the colors for the bubbles\n",
    "        size=[circle[2] * 600 for circle in adjusted_circles],  # Set the sizes of the bubbles (adjust the scaling factor)\n",
    "        sizemode='diameter',  # Use diameter mode to specify bubble sizes directly\n",
    "    ),\n",
    ")\n",
    "\n",
    "# Create the layout for the circle packing effect\n",
    "layout = go.Layout(\n",
    "    title=dict(text='Honeybee:Human Ratio', font=dict(size=32, family='Arial, bold')),  # Set the title font size\n",
    "    xaxis=dict(showgrid=False, zeroline=False, showticklabels=False),\n",
    "    yaxis=dict(showgrid=False, zeroline=False, showticklabels=False),\n",
    "    showlegend=False,\n",
    "    width=900,\n",
    "    height=900,\n",
    ")\n",
    "\n",
    "# Create the figure and add the trace to it\n",
    "fig = go.Figure(data=[trace], layout=layout)\n",
    "\n",
    "# Update the annotations to position them correctly\n",
    "annotations = []\n",
    "for i, circle in enumerate(adjusted_circles):\n",
    "    label = labels[i]\n",
    "    x = circle[0]\n",
    "    y = circle[1]\n",
    "    if i == 0:\n",
    "        y += 1.0  \n",
    "    if i == 1:\n",
    "        y -= 1.3# Adjust this value to set the desired y-coordinate for the second label\n",
    "\n",
    "    annotation = dict(\n",
    "        x=x,\n",
    "        y=y,\n",
    "        xref=\"x\",\n",
    "        yref=\"y\",\n",
    "        text=label,\n",
    "        showarrow=False,  # Remove the arrow\n",
    "        font=dict(size=14, family='Arial, bold')\n",
    "    )\n",
    "\n",
    "    annotations.append(annotation)\n",
    "\n",
    "fig.update_layout(annotations=annotations)\n",
    "\n",
    "# Show the circle packing bubble chart\n",
    "fig.show()"
   ]
  }
 ],
 "metadata": {
  "kernelspec": {
   "display_name": "Python 3",
   "language": "python",
   "name": "python3"
  },
  "language_info": {
   "codemirror_mode": {
    "name": "ipython",
    "version": 3
   },
   "file_extension": ".py",
   "mimetype": "text/x-python",
   "name": "python",
   "nbconvert_exporter": "python",
   "pygments_lexer": "ipython3",
   "version": "3.10.11"
  },
  "orig_nbformat": 4
 },
 "nbformat": 4,
 "nbformat_minor": 2
}
